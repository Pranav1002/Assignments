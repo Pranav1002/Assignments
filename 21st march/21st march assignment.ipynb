{
 "cells": [
  {
   "cell_type": "markdown",
   "id": "7508cbf4-f99a-4e38-83bb-d9a4e25f5fbb",
   "metadata": {},
   "source": [
    "# Q1. What is the difference between Ordinal Encoding and Label Encoding? Provide an example of when you might choose one over the other.\n",
    "\n",
    "---> Ordinal encoding is used when the categorical data has an inherent order or hierarchy, while label encoding is used when the categorical data has no inherent order or hierarchy.\n",
    "\n",
    "---> For example if dataset comntains size of shirts (small, medium, large) we will use ordinal encoding as there is inherent order (small < medium < large). But if we have dataset of color (red, blue, green) then we use label encoding as it is not in any order."
   ]
  },
  {
   "cell_type": "markdown",
   "id": "6392863f-3962-4291-b76f-d2ce2a3e36b4",
   "metadata": {},
   "source": [
    "  "
   ]
  },
  {
   "cell_type": "markdown",
   "id": "c1345f4c-f627-4a7b-8643-f6655e1d1f37",
   "metadata": {},
   "source": [
    "# Q2. Explain how Target Guided Ordinal Encoding works and provide an example of when you might use it in a machine learning project.\n",
    "\n",
    "---> Steps involved in target ordinal encoding are\n",
    "\n",
    "1) Choose a categorical variable.\n",
    "2) Take the aggregated mean of the categorical variable and apply it to the target variable.\n",
    "3) Sort the values of the categorical variable based on the aggregated mean.\n",
    "4) Assign an ordinal number to each unique category based on its rank.\n",
    "\n",
    "---> An example when I might use Target guided ordinal encoding is a dataset of cities and price of land corresponding to those cities."
   ]
  },
  {
   "cell_type": "markdown",
   "id": "0a5c547c-9be4-4271-9286-2d34b187a7a6",
   "metadata": {},
   "source": [
    "  "
   ]
  },
  {
   "cell_type": "markdown",
   "id": "76376c30-86c8-42f9-a3d3-0654d92fb596",
   "metadata": {},
   "source": [
    "# Q3. Define covariance and explain why it is important in statistical analysis. How is covariance calculated?\n",
    "\n",
    "---> Covariance is a statistical tool used to determine the relationship between the movements of two random variables.\n",
    "\n",
    "---> It measures the joint variability of two random variables and can take any positive or negative value.\n",
    "\n",
    "--->  A positive covariance means that the two variables tend to move in the same direction, while a negative covariance means that they move in opposite directions.\n",
    "\n",
    "---> It is used to identify trends and patterns in data and can help us make predictions about future outcomes.\n",
    "\n",
    "---> Formula of covariance is:\n",
    "        cov(X,Y) = E[(X - E[X])(Y - E[Y])]\n",
    "        \n",
    "---> where X and Y are random variables, and E[X] and E[Y] are their expected values"
   ]
  },
  {
   "cell_type": "markdown",
   "id": "1e238280-7e25-42d5-9238-edda1f6e193c",
   "metadata": {},
   "source": [
    "  "
   ]
  },
  {
   "cell_type": "markdown",
   "id": "00fec7cb-e52e-48b3-9c9f-0ddb2dc16312",
   "metadata": {},
   "source": [
    "# Q4. For a dataset with the following categorical variables: Color (red, green, blue), Size (small, medium, large), and Material (wood, metal, plastic), perform label encoding using Python's scikit-learn library. Show your code and explain the output."
   ]
  },
  {
   "cell_type": "code",
   "execution_count": 3,
   "id": "6b5a5b4a-a5ea-46a4-a38b-e8efd9f6b755",
   "metadata": {},
   "outputs": [
    {
     "data": {
      "text/plain": [
       "{'Color': array([2, 1, 0, 1, 0]),\n",
       " 'Size': array([2, 1, 0, 1, 2]),\n",
       " 'Material': array([2, 0, 1, 0, 2])}"
      ]
     },
     "execution_count": 3,
     "metadata": {},
     "output_type": "execute_result"
    }
   ],
   "source": [
    "from sklearn.preprocessing import LabelEncoder\n",
    "\n",
    "df = {'Color': ['red', 'green', 'blue', 'green', 'blue'],\n",
    "        'Size': ['small', 'medium', 'large', 'medium', 'small'],\n",
    "        'Material': ['wood', 'metal', 'plastic', 'metal', 'wood']}\n",
    "\n",
    "le = LabelEncoder()\n",
    "\n",
    "for col in df:\n",
    "    df[col] = le.fit_transform(df[col])\n",
    "    \n",
    "df"
   ]
  },
  {
   "cell_type": "markdown",
   "id": "fa161572-11be-48f8-b680-9a7fc8cc5eeb",
   "metadata": {},
   "source": [
    "  "
   ]
  },
  {
   "cell_type": "markdown",
   "id": "5e69df5d-0cb7-457b-a500-4b3ddc7f3e1e",
   "metadata": {},
   "source": [
    "# Q5. Calculate the covariance matrix for the following variables in a dataset: Age, Income, and Education level. Interpret the results."
   ]
  },
  {
   "cell_type": "code",
   "execution_count": 4,
   "id": "27127f01-79dd-4b5a-90bf-57b50429f1a9",
   "metadata": {},
   "outputs": [
    {
     "name": "stdout",
     "output_type": "stream",
     "text": [
      "[[2.50000000e+01 5.00000000e+04 1.50000000e+01]\n",
      " [5.00000000e+04 1.00000000e+08 3.00000000e+04]\n",
      " [1.50000000e+01 3.00000000e+04 9.33333333e+00]]\n"
     ]
    }
   ],
   "source": [
    "import numpy as np\n",
    "\n",
    "# Create a sample dataset\n",
    "data = np.array([[25, 50000, 12],\n",
    "                 [30, 60000, 16],\n",
    "                 [35, 70000, 18]])\n",
    "\n",
    "cov_matrix = np.cov(data.T)\n",
    "\n",
    "print(cov_matrix)"
   ]
  },
  {
   "cell_type": "markdown",
   "id": "e1cdd84b-4501-4e24-82d2-b4857d30e18c",
   "metadata": {},
   "source": [
    "  "
   ]
  },
  {
   "cell_type": "markdown",
   "id": "a24ae8b9-1858-4a61-8be3-e19dd18986b9",
   "metadata": {},
   "source": [
    "# Q6. You are working on a machine learning project with a dataset containing several categorical variables, including \"Gender\" (Male/Female), \"Education Level\" (High School/Bachelor's/Master's/PhD), and \"Employment Status\" (Unemployed/Part-Time/Full-Time). Which encoding method would you use for each variable, and why?\n",
    "\n",
    "---> Gender : Since there are only 2 catagories, so I can use binary encoding.\n",
    "\n",
    "---> Education Level : There are multiple variables so I can use one hot encoding, which involves creating a new column for each catagory.\n",
    "\n",
    "---> Employment status : I can use one hot encoding or ordinal encoding as there are multiple catagorical variables.\n"
   ]
  },
  {
   "cell_type": "markdown",
   "id": "e9b95807-6ffb-49cd-a104-0213d5f4cec0",
   "metadata": {},
   "source": [
    "  "
   ]
  },
  {
   "cell_type": "markdown",
   "id": "505fc41a-60b6-4a84-a08e-5ff38a3759bb",
   "metadata": {},
   "source": [
    "# Q7. You are analyzing a dataset with two continuous variables, \"Temperature\" and \"Humidity\", and two categorical variables, \"Weather Condition\" (Sunny/Cloudy/Rainy) and \"Wind Direction\" (North/South/ East/West). Calculate the covariance between each pair of variables and interpret the results."
   ]
  },
  {
   "cell_type": "code",
   "execution_count": null,
   "id": "ff5b5277-50ef-4490-b6e3-d12c9e6ab301",
   "metadata": {},
   "outputs": [],
   "source": [
    "import numpy as np\n",
    "\n",
    "# Create a sample dataset\n",
    "data1 = np.array([[25, 60, 'Sunny', 'North'],\n",
    "                 [30, 70, 'Cloudy', 'South'],\n",
    "                 [35, 80, 'Rainy', 'East']])\n",
    "\n",
    "\n",
    "continuous_data = data1[:, :2]\n",
    "\n",
    "cov_matrix1 = np.cov(continuous_data.T)\n",
    "\n",
    "print(cov_matrix1)"
   ]
  },
  {
   "cell_type": "code",
   "execution_count": null,
   "id": "37b117cf-701f-458f-b63d-b57b15f17693",
   "metadata": {},
   "outputs": [],
   "source": []
  }
 ],
 "metadata": {
  "kernelspec": {
   "display_name": "Python 3 (ipykernel)",
   "language": "python",
   "name": "python3"
  },
  "language_info": {
   "codemirror_mode": {
    "name": "ipython",
    "version": 3
   },
   "file_extension": ".py",
   "mimetype": "text/x-python",
   "name": "python",
   "nbconvert_exporter": "python",
   "pygments_lexer": "ipython3",
   "version": "3.10.6"
  }
 },
 "nbformat": 4,
 "nbformat_minor": 5
}
