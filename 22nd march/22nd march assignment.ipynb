{
 "cells": [
  {
   "cell_type": "markdown",
   "id": "d06b564b-f32d-4618-aa93-efe22e72cb84",
   "metadata": {},
   "source": [
    "# Q1. Pearson correlation coefficient is a measure of the linear relationship between two variables. Suppose you have collected data on the amount of time students spend studying for an exam and their final exam scores. Calculate the Pearson correlation coefficient between these two variables and interpret the result."
   ]
  },
  {
   "cell_type": "code",
   "execution_count": 1,
   "id": "560af892-5499-4f65-8947-58944cfc93a3",
   "metadata": {},
   "outputs": [
    {
     "data": {
      "text/html": [
       "<div>\n",
       "<style scoped>\n",
       "    .dataframe tbody tr th:only-of-type {\n",
       "        vertical-align: middle;\n",
       "    }\n",
       "\n",
       "    .dataframe tbody tr th {\n",
       "        vertical-align: top;\n",
       "    }\n",
       "\n",
       "    .dataframe thead th {\n",
       "        text-align: right;\n",
       "    }\n",
       "</style>\n",
       "<table border=\"1\" class=\"dataframe\">\n",
       "  <thead>\n",
       "    <tr style=\"text-align: right;\">\n",
       "      <th></th>\n",
       "      <th>Hours Studied</th>\n",
       "      <th>Exam Score</th>\n",
       "    </tr>\n",
       "  </thead>\n",
       "  <tbody>\n",
       "    <tr>\n",
       "      <th>Hours Studied</th>\n",
       "      <td>1.000000</td>\n",
       "      <td>0.985228</td>\n",
       "    </tr>\n",
       "    <tr>\n",
       "      <th>Exam Score</th>\n",
       "      <td>0.985228</td>\n",
       "      <td>1.000000</td>\n",
       "    </tr>\n",
       "  </tbody>\n",
       "</table>\n",
       "</div>"
      ],
      "text/plain": [
       "               Hours Studied  Exam Score\n",
       "Hours Studied       1.000000    0.985228\n",
       "Exam Score          0.985228    1.000000"
      ]
     },
     "execution_count": 1,
     "metadata": {},
     "output_type": "execute_result"
    }
   ],
   "source": [
    "import pandas as pd\n",
    "\n",
    "hours_studied = [0.5, 0.75, 1, 1.25, 1.5, 1.75, 2, 2.25, 2.5, 2.75, 3]\n",
    "exam_score = [20, 35, 40, 50, 60, 65, 70, 75, 80, 85, 90]\n",
    "\n",
    "df = pd.DataFrame({'Hours Studied': hours_studied,\n",
    "                   'Exam Score': exam_score})\n",
    "\n",
    "df.corr(method='pearson')"
   ]
  },
  {
   "cell_type": "markdown",
   "id": "93f755bc-5a6c-4e28-ac69-9b59d814d12a",
   "metadata": {},
   "source": [
    "---> From result we can see that as number of hours of study increases the score of final exam is also increases."
   ]
  },
  {
   "cell_type": "markdown",
   "id": "e8bb4ca7-b127-478e-a718-9a34c9fd7433",
   "metadata": {},
   "source": [
    "   "
   ]
  },
  {
   "cell_type": "markdown",
   "id": "9382aa83-067d-4959-b095-bcd24e8732fa",
   "metadata": {},
   "source": [
    "# Q2. Spearman's rank correlation is a measure of the monotonic relationship between two variables. Suppose you have collected data on the amount of sleep individuals get each night and their overall job satisfaction level on a scale of 1 to 10. Calculate the Spearman's rank correlation between these two variables and interpret the result."
   ]
  },
  {
   "cell_type": "code",
   "execution_count": 4,
   "id": "386f5b28-ab8e-4be0-8c6d-53fc1b151071",
   "metadata": {},
   "outputs": [
    {
     "data": {
      "text/html": [
       "<div>\n",
       "<style scoped>\n",
       "    .dataframe tbody tr th:only-of-type {\n",
       "        vertical-align: middle;\n",
       "    }\n",
       "\n",
       "    .dataframe tbody tr th {\n",
       "        vertical-align: top;\n",
       "    }\n",
       "\n",
       "    .dataframe thead th {\n",
       "        text-align: right;\n",
       "    }\n",
       "</style>\n",
       "<table border=\"1\" class=\"dataframe\">\n",
       "  <thead>\n",
       "    <tr style=\"text-align: right;\">\n",
       "      <th></th>\n",
       "      <th>Hours of Sleep</th>\n",
       "      <th>Job Satisfaction</th>\n",
       "    </tr>\n",
       "  </thead>\n",
       "  <tbody>\n",
       "    <tr>\n",
       "      <th>Hours of Sleep</th>\n",
       "      <td>1.000000</td>\n",
       "      <td>0.981981</td>\n",
       "    </tr>\n",
       "    <tr>\n",
       "      <th>Job Satisfaction</th>\n",
       "      <td>0.981981</td>\n",
       "      <td>1.000000</td>\n",
       "    </tr>\n",
       "  </tbody>\n",
       "</table>\n",
       "</div>"
      ],
      "text/plain": [
       "                  Hours of Sleep  Job Satisfaction\n",
       "Hours of Sleep          1.000000          0.981981\n",
       "Job Satisfaction        0.981981          1.000000"
      ]
     },
     "execution_count": 4,
     "metadata": {},
     "output_type": "execute_result"
    }
   ],
   "source": [
    "import pandas as pd\n",
    "\n",
    "hours_of_sleep = [4, 5, 6, 7, 8, 9, 10]\n",
    "job_satisfaction = [2, 2, 4, 5, 5, 7, 8]\n",
    "\n",
    "df = pd.DataFrame({'Hours of Sleep': hours_of_sleep,\n",
    "                   'Job Satisfaction': job_satisfaction})\n",
    "\n",
    "df.corr(method='spearman')"
   ]
  },
  {
   "cell_type": "markdown",
   "id": "d3c7b8f1-875e-4e73-a362-a133b8d47c45",
   "metadata": {},
   "source": [
    "---> Here from result we can see that as number of hours of sleep is more the job satisfaction is also more."
   ]
  },
  {
   "cell_type": "markdown",
   "id": "977793d3-f27b-4a94-b479-060fafce7b2b",
   "metadata": {},
   "source": [
    "  "
   ]
  },
  {
   "cell_type": "markdown",
   "id": "8eb1f8d3-3052-4f8d-b55e-22500bf4d177",
   "metadata": {},
   "source": [
    "# Q3. Suppose you are conducting a study to examine the relationship between the number of hours of exercise per week and body mass index (BMI) in a sample of adults. You collected data on both variables for 50 participants. Calculate the Pearson correlation coefficient and the Spearman's rank correlation between these two variables and compare the results."
   ]
  },
  {
   "cell_type": "code",
   "execution_count": 13,
   "id": "2a967c96-ea95-4bd9-9a86-a052fbcf5228",
   "metadata": {},
   "outputs": [
    {
     "name": "stdout",
     "output_type": "stream",
     "text": [
      "pearson\n",
      "                   Hours of Exercise       BMI\n",
      "Hours of Exercise           1.000000 -0.021336\n",
      "BMI                        -0.021336  1.000000\n",
      "\n",
      "\n",
      "spearman\n",
      "                   Hours of Exercise       BMI\n",
      "Hours of Exercise           1.000000 -0.022501\n",
      "BMI                        -0.022501  1.000000\n"
     ]
    }
   ],
   "source": [
    "import pandas as pd\n",
    "import random\n",
    "\n",
    "hours_of_exercise = [random.randint(1, 10) for _ in range(50)]\n",
    "bmi = [random.randint(20, 40) for _ in range(50)]\n",
    "\n",
    "df = pd.DataFrame({'Hours of Exercise': hours_of_exercise,\n",
    "                   'BMI': bmi})\n",
    "\n",
    "pearson_corr = df.corr(method = 'pearson')\n",
    "\n",
    "spearman_corr = df.corr(method = 'spearman')\n",
    "\n",
    "print('pearson')\n",
    "print(pearson_corr)\n",
    "\n",
    "print('\\n\\nspearman')\n",
    "print(spearman_corr)"
   ]
  },
  {
   "cell_type": "markdown",
   "id": "c7d7a75a-1a29-4b49-ab87-6865cc6bd7c2",
   "metadata": {},
   "source": [
    "  "
   ]
  },
  {
   "cell_type": "markdown",
   "id": "3e380542-e01b-4640-9eb1-1394df69f3e9",
   "metadata": {},
   "source": [
    " "
   ]
  },
  {
   "cell_type": "markdown",
   "id": "3d1fdb17-0d64-47f7-9be4-c0bf8915f2a2",
   "metadata": {},
   "source": [
    "# Q4. A researcher is interested in examining the relationship between the number of hours individuals spend watching television per day and their level of physical activity. The researcher collected data on both variables from a sample of 50 participants. Calculate the Pearson correlation coefficient between these two variables."
   ]
  },
  {
   "cell_type": "code",
   "execution_count": 14,
   "id": "0b25d848-2cb5-4246-bdd8-ce86ff2f3be4",
   "metadata": {},
   "outputs": [
    {
     "name": "stdout",
     "output_type": "stream",
     "text": [
      "pearson\n",
      "                         TV  Physical Activity\n",
      "TV                 1.000000           0.202644\n",
      "Physical Activity  0.202644           1.000000\n"
     ]
    }
   ],
   "source": [
    "import pandas as pd\n",
    "import random\n",
    "\n",
    "hours_of_tv = [random.randint(1, 10) for _ in range(50)]\n",
    "hours_of_pa = [random.randint(1, 10) for _ in range(50)]\n",
    "\n",
    "df = pd.DataFrame({'TV': hours_of_tv,\n",
    "                   'Physical Activity': hours_of_pa})\n",
    "\n",
    "pearson_corr = df.corr(method = 'pearson')\n",
    "\n",
    "spearman_corr = df.corr(method = 'spearman')\n",
    "\n",
    "print('pearson')\n",
    "print(pearson_corr)\n"
   ]
  },
  {
   "cell_type": "markdown",
   "id": "86ab54f4-bc7d-4e1d-94c1-6ecf68a11dda",
   "metadata": {},
   "source": [
    "  "
   ]
  },
  {
   "cell_type": "markdown",
   "id": "0dcbb50b-577e-42fb-9391-1d103aa210b0",
   "metadata": {},
   "source": [
    "# Q5. A survey was conducted to examine the relationship between age and preference for a particular brand of soft drink. The survey results are shown below:\n",
    "\n",
    "---> Here question is not specifying what to do."
   ]
  },
  {
   "cell_type": "markdown",
   "id": "d2e84df7-1d6c-47b0-8c1e-d21d3fa89eba",
   "metadata": {},
   "source": [
    "  "
   ]
  },
  {
   "cell_type": "markdown",
   "id": "c4598fbd-cc3b-4d81-834a-2b9270130f88",
   "metadata": {},
   "source": [
    "# Q6. A company is interested in examining the relationship between the number of sales calls made per day and the number of sales made per week. The company collected data on both variables from a sample of 30 sales representatives. Calculate the Pearson correlation coefficient between these two variables."
   ]
  },
  {
   "cell_type": "code",
   "execution_count": 1,
   "id": "8d41e718-9bc4-45bc-af98-f197d192515b",
   "metadata": {},
   "outputs": [
    {
     "name": "stdout",
     "output_type": "stream",
     "text": [
      "            Day Sales  Week Sales\n",
      "Day Sales    1.000000    0.141365\n",
      "Week Sales   0.141365    1.000000\n"
     ]
    }
   ],
   "source": [
    "import pandas as pd\n",
    "import random\n",
    "\n",
    "day_sales = [random.randint(1, 20) for _ in range(30)]\n",
    "week_sales = [random.randint(21, 100) for _ in range(30)]\n",
    "\n",
    "df = pd.DataFrame({'Day Sales': day_sales,\n",
    "                   'Week Sales': week_sales})\n",
    "\n",
    "pearson_corr = df.corr(method = 'pearson')\n",
    "\n",
    "print(pearson_corr)"
   ]
  },
  {
   "cell_type": "code",
   "execution_count": null,
   "id": "2e980bdb-038a-4a70-8ee0-679d32ab3dd6",
   "metadata": {},
   "outputs": [],
   "source": []
  }
 ],
 "metadata": {
  "kernelspec": {
   "display_name": "Python 3 (ipykernel)",
   "language": "python",
   "name": "python3"
  },
  "language_info": {
   "codemirror_mode": {
    "name": "ipython",
    "version": 3
   },
   "file_extension": ".py",
   "mimetype": "text/x-python",
   "name": "python",
   "nbconvert_exporter": "python",
   "pygments_lexer": "ipython3",
   "version": "3.10.6"
  }
 },
 "nbformat": 4,
 "nbformat_minor": 5
}
