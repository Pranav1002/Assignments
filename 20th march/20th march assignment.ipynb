{
 "cells": [
  {
   "cell_type": "markdown",
   "id": "2c87ad30-0fef-4bb0-889c-257e1da21f1c",
   "metadata": {},
   "source": [
    "# Q1. What is data encoding? How is it useful in data science?\n",
    "\n",
    "---> Data encoding is the process of converting data from one form to another. \n",
    "\n",
    "--->  In data science, encoding is useful for converting categorical data into numerical data that can be used in machine learning models.\n",
    "\n",
    "---> When working on some datasets, we found that some of the features are categorical, if we pass that feature directly to our model, our model can’t understand those feature variables. We all know that machines can’t understand categorical data. So, we need to convert these categorical features into numerical features using encoding techniques."
   ]
  },
  {
   "cell_type": "markdown",
   "id": "5a6d999b-f370-4df7-b971-7415c7fc2999",
   "metadata": {},
   "source": [
    "  "
   ]
  },
  {
   "cell_type": "markdown",
   "id": "cec20e04-9ee8-468e-abff-bbbcb08abb85",
   "metadata": {},
   "source": [
    "# Q2. What is nominal encoding? Provide an example of how you would use it in a real-world scenario.\n",
    "\n",
    "---> Nominal encoding is used when we have a feature where variables are just names and there is no order or rank to this variable’s feature.\n",
    "\n",
    "---> For example we have dataset of different types of flowers such their color, petal length, petal width, sepal length etc.\n",
    "\n",
    "---> Now these data has no order. Now we convert these catogarical data into numerical data to make our model."
   ]
  },
  {
   "cell_type": "markdown",
   "id": "345c3fff-3c52-4742-aa0c-e15a9eadf22f",
   "metadata": {},
   "source": [
    "  "
   ]
  },
  {
   "cell_type": "markdown",
   "id": "a5f41a0e-12d2-41a1-826b-edfafb1ab966",
   "metadata": {},
   "source": [
    "# Q3. In what situations is nominal encoding preferred over one-hot encoding? Provide a practical example.\n",
    "\n",
    "---> Nominal encoding is preferred over one-hot encoding when the number of categorical features is less. One-hot encoding can lead to high memory consumption when the number of categories is quite large.\n",
    "\n",
    "---> For example, suppose we have a dataset with a categorical feature that has only two categories such as “male” and “female”. In this case, we can use nominal encoding to convert the categorical data into numerical data that can be used in machine learning models."
   ]
  },
  {
   "cell_type": "markdown",
   "id": "121215b6-9ff6-4622-96ed-ef7b7f7c8bf2",
   "metadata": {},
   "source": [
    "   "
   ]
  },
  {
   "cell_type": "markdown",
   "id": "47e890ea-1932-4f10-af5f-30f5b29b9bb5",
   "metadata": {},
   "source": [
    "# Q4. Suppose you have a dataset containing categorical data with 5 unique values. Which encoding technique would you use to transform this data into a format suitable for machine learning algorithms? Explain why you made this choice.\n",
    "\n",
    "---> In the given scenario I would use one hot encoding to transform this data into a format suitable for machine learning algorithms.\n",
    "\n",
    "---> In one-hot encoding, each label is converted to an attribute and the particular attribute is given values 0 (False) or 1 (True)."
   ]
  },
  {
   "cell_type": "markdown",
   "id": "b4508bc6-3007-4b08-9cb8-13b1c734240e",
   "metadata": {},
   "source": [
    "  "
   ]
  },
  {
   "cell_type": "markdown",
   "id": "6c3612c9-2fd7-4a96-8556-c1efe7c49b48",
   "metadata": {},
   "source": [
    "# Q5. In a machine learning project, you have a dataset with 1000 rows and 5 columns. Two of the columns are categorical, and the remaining three columns are numerical. If you were to use nominal encoding to transform the categorical data, how many new columns would be created? Show your calculations.\n",
    "\n",
    "---> According to nominal encoding technique we have to add number of columns = number of unique data in the categorical column.\n",
    "\n",
    "---> for example if first column has 5 unique data and second has 3 unique data so we have to add 5 + 3 = 8 new columns."
   ]
  },
  {
   "cell_type": "markdown",
   "id": "079c2565-ba0e-4eb9-bb21-4aa2caff2303",
   "metadata": {},
   "source": [
    "  "
   ]
  },
  {
   "cell_type": "markdown",
   "id": "76b404d4-1f09-4dd4-bf3e-f518e957567e",
   "metadata": {},
   "source": [
    "# Q6. You are working with a dataset containing information about different types of animals, including their species, habitat, and diet. Which encoding technique would you use to transform the categorical data into a format suitable for machine learning algorithms? Justify your answer.\n",
    "\n",
    "---> I would use one hot encoding.\n",
    "\n",
    "---> It would convert every categorical data into form of 0(false) and1(true) form."
   ]
  },
  {
   "cell_type": "markdown",
   "id": "8a5badbe-7f20-46c0-a54c-e2c95b7f987a",
   "metadata": {},
   "source": [
    "  "
   ]
  },
  {
   "cell_type": "markdown",
   "id": "a533463d-b8c5-4627-b9b9-8012530849e5",
   "metadata": {},
   "source": [
    "# Q7.You are working on a project that involves predicting customer churn for a telecommunications company. You have a dataset with 5 features, including the customer's gender, age, contract type, monthly charges, and tenure. Which encoding technique(s) would you use to transform the categorical data into numerical data? Provide a step-by-step explanation of how you would implement the encoding.\n",
    "\n",
    "---> I would use one hot encoding to transform categorical data into numerical data.\n",
    "\n",
    "---> Here the steps are given :\n",
    "\n",
    "1) Import necessary libraries such as pandas and category_encoders.\n",
    "\n",
    "2) Load the dataset and split it into features (X) and target (y).\n",
    "\n",
    "3) Create a binary encoder object from category_encoders library.\n",
    "\n",
    "4) Fit the binary encoder on the categorical feature, gender.\n",
    "\n",
    "5) Transform the categorical feature using the fitted binary encoder.\n",
    "\n",
    "6) Concatenate the transformed feature with the remaining numerical features.\n"
   ]
  },
  {
   "cell_type": "code",
   "execution_count": null,
   "id": "0202ca75-89d8-42a8-9443-6ba44b64e1fb",
   "metadata": {},
   "outputs": [],
   "source": []
  }
 ],
 "metadata": {
  "kernelspec": {
   "display_name": "Python 3 (ipykernel)",
   "language": "python",
   "name": "python3"
  },
  "language_info": {
   "codemirror_mode": {
    "name": "ipython",
    "version": 3
   },
   "file_extension": ".py",
   "mimetype": "text/x-python",
   "name": "python",
   "nbconvert_exporter": "python",
   "pygments_lexer": "ipython3",
   "version": "3.10.6"
  }
 },
 "nbformat": 4,
 "nbformat_minor": 5
}
